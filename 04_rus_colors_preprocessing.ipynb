{
 "cells": [
  {
   "cell_type": "code",
   "execution_count": 1,
   "metadata": {},
   "outputs": [],
   "source": [
    "import pandas as pd\n",
    "import numpy as np\n",
    "\n",
    "import matplotlib.pyplot as plt\n",
    "import seaborn as sns\n",
    "\n",
    "import re\n",
    "\n",
    "%matplotlib inline"
   ]
  },
  {
   "cell_type": "markdown",
   "metadata": {},
   "source": [
    "### Загружаем датасет ###"
   ]
  },
  {
   "cell_type": "code",
   "execution_count": 2,
   "metadata": {},
   "outputs": [],
   "source": [
    "# загружаем все города и поселки\n",
    "\n",
    "all_cities = pd.read_csv('C:/00_Projects/Russia_color/all_cities_clean.csv', encoding='utf-8')"
   ]
  },
  {
   "cell_type": "code",
   "execution_count": 3,
   "metadata": {},
   "outputs": [
    {
     "data": {
      "text/html": [
       "<div>\n",
       "<style scoped>\n",
       "    .dataframe tbody tr th:only-of-type {\n",
       "        vertical-align: middle;\n",
       "    }\n",
       "\n",
       "    .dataframe tbody tr th {\n",
       "        vertical-align: top;\n",
       "    }\n",
       "\n",
       "    .dataframe thead th {\n",
       "        text-align: right;\n",
       "    }\n",
       "</style>\n",
       "<table border=\"1\" class=\"dataframe\">\n",
       "  <thead>\n",
       "    <tr style=\"text-align: right;\">\n",
       "      <th></th>\n",
       "      <th>aolevel</th>\n",
       "      <th>city_type</th>\n",
       "      <th>city</th>\n",
       "      <th>mun_district</th>\n",
       "      <th>region</th>\n",
       "      <th>okato</th>\n",
       "      <th>oktmo</th>\n",
       "    </tr>\n",
       "  </thead>\n",
       "  <tbody>\n",
       "    <tr>\n",
       "      <th>0</th>\n",
       "      <td>6</td>\n",
       "      <td>х</td>\n",
       "      <td>Советский</td>\n",
       "      <td>Майкопский</td>\n",
       "      <td>Адыгея</td>\n",
       "      <td>7.922200e+10</td>\n",
       "      <td>7.962242e+10</td>\n",
       "    </tr>\n",
       "    <tr>\n",
       "      <th>1</th>\n",
       "      <td>6</td>\n",
       "      <td>ст</td>\n",
       "      <td>Шенджий</td>\n",
       "      <td>Тахтамукайский</td>\n",
       "      <td>Адыгея</td>\n",
       "      <td>7.923000e+10</td>\n",
       "      <td>7.963042e+10</td>\n",
       "    </tr>\n",
       "    <tr>\n",
       "      <th>2</th>\n",
       "      <td>6</td>\n",
       "      <td>ст-ца</td>\n",
       "      <td>Ханская</td>\n",
       "      <td>Майкоп</td>\n",
       "      <td>Адыгея</td>\n",
       "      <td>7.940100e+10</td>\n",
       "      <td>7.970100e+10</td>\n",
       "    </tr>\n",
       "    <tr>\n",
       "      <th>3</th>\n",
       "      <td>6</td>\n",
       "      <td>аул</td>\n",
       "      <td>Гатлукай</td>\n",
       "      <td>Адыгейск</td>\n",
       "      <td>Адыгея</td>\n",
       "      <td>7.940300e+10</td>\n",
       "      <td>7.970300e+10</td>\n",
       "    </tr>\n",
       "    <tr>\n",
       "      <th>4</th>\n",
       "      <td>6</td>\n",
       "      <td>х</td>\n",
       "      <td>Псекупс</td>\n",
       "      <td>Адыгейск</td>\n",
       "      <td>Адыгея</td>\n",
       "      <td>7.940300e+10</td>\n",
       "      <td>7.970300e+10</td>\n",
       "    </tr>\n",
       "    <tr>\n",
       "      <th>...</th>\n",
       "      <td>...</td>\n",
       "      <td>...</td>\n",
       "      <td>...</td>\n",
       "      <td>...</td>\n",
       "      <td>...</td>\n",
       "      <td>...</td>\n",
       "      <td>...</td>\n",
       "    </tr>\n",
       "    <tr>\n",
       "      <th>161531</th>\n",
       "      <td>6</td>\n",
       "      <td>с</td>\n",
       "      <td>Оборонное</td>\n",
       "      <td>Оборонное</td>\n",
       "      <td>Севастополь</td>\n",
       "      <td>6.726300e+10</td>\n",
       "      <td>6.730200e+10</td>\n",
       "    </tr>\n",
       "    <tr>\n",
       "      <th>161532</th>\n",
       "      <td>6</td>\n",
       "      <td>с</td>\n",
       "      <td>Морозовка</td>\n",
       "      <td>Морозовка</td>\n",
       "      <td>Севастополь</td>\n",
       "      <td>6.726300e+10</td>\n",
       "      <td>6.730000e+07</td>\n",
       "    </tr>\n",
       "    <tr>\n",
       "      <th>161533</th>\n",
       "      <td>6</td>\n",
       "      <td>с</td>\n",
       "      <td>Родниковое</td>\n",
       "      <td>Родниковое</td>\n",
       "      <td>Севастополь</td>\n",
       "      <td>6.726300e+10</td>\n",
       "      <td>6.730600e+10</td>\n",
       "    </tr>\n",
       "    <tr>\n",
       "      <th>161534</th>\n",
       "      <td>6</td>\n",
       "      <td>п</td>\n",
       "      <td>Кача</td>\n",
       "      <td>Кача</td>\n",
       "      <td>Севастополь</td>\n",
       "      <td>6.726900e+10</td>\n",
       "      <td>6.732000e+10</td>\n",
       "    </tr>\n",
       "    <tr>\n",
       "      <th>161535</th>\n",
       "      <td>6</td>\n",
       "      <td>с</td>\n",
       "      <td>Верхнесадовое</td>\n",
       "      <td>Верхнесадовое</td>\n",
       "      <td>Севастополь</td>\n",
       "      <td>6.726900e+10</td>\n",
       "      <td>6.731600e+10</td>\n",
       "    </tr>\n",
       "  </tbody>\n",
       "</table>\n",
       "<p>161536 rows × 7 columns</p>\n",
       "</div>"
      ],
      "text/plain": [
       "        aolevel city_type           city    mun_district       region  \\\n",
       "0             6         х      Советский      Майкопский       Адыгея   \n",
       "1             6        ст        Шенджий  Тахтамукайский       Адыгея   \n",
       "2             6     ст-ца        Ханская          Майкоп       Адыгея   \n",
       "3             6       аул       Гатлукай        Адыгейск       Адыгея   \n",
       "4             6         х        Псекупс        Адыгейск       Адыгея   \n",
       "...         ...       ...            ...             ...          ...   \n",
       "161531        6         с      Оборонное       Оборонное  Севастополь   \n",
       "161532        6         с      Морозовка       Морозовка  Севастополь   \n",
       "161533        6         с     Родниковое      Родниковое  Севастополь   \n",
       "161534        6         п           Кача            Кача  Севастополь   \n",
       "161535        6         с  Верхнесадовое   Верхнесадовое  Севастополь   \n",
       "\n",
       "               okato         oktmo  \n",
       "0       7.922200e+10  7.962242e+10  \n",
       "1       7.923000e+10  7.963042e+10  \n",
       "2       7.940100e+10  7.970100e+10  \n",
       "3       7.940300e+10  7.970300e+10  \n",
       "4       7.940300e+10  7.970300e+10  \n",
       "...              ...           ...  \n",
       "161531  6.726300e+10  6.730200e+10  \n",
       "161532  6.726300e+10  6.730000e+07  \n",
       "161533  6.726300e+10  6.730600e+10  \n",
       "161534  6.726900e+10  6.732000e+10  \n",
       "161535  6.726900e+10  6.731600e+10  \n",
       "\n",
       "[161536 rows x 7 columns]"
      ]
     },
     "execution_count": 3,
     "metadata": {},
     "output_type": "execute_result"
    }
   ],
   "source": [
    "all_cities"
   ]
  },
  {
   "cell_type": "code",
   "execution_count": 4,
   "metadata": {},
   "outputs": [],
   "source": [
    "color_list = ['красн',\n",
    "              'амарант', 'багрян', 'борд', 'вишн', 'гранат', 'рубин', # оттенки\n",
    "              \n",
    "              'розов',\n",
    "              \n",
    "              'желт', 'жёлт',              \n",
    "              'бежев', 'лимон', 'янтар',\n",
    "              \n",
    "              'золот', 'алтан', \n",
    "\n",
    "              \n",
    "              'зелен', 'зелён',\n",
    "              'лайм', 'олива',\n",
    "              \n",
    "              'голуб', 'бирюз',\n",
    "              \n",
    "              'сини', 'синь', 'синяя', 'сине',\n",
    "              'лазур',\n",
    "              \n",
    "              'фиолет', 'сирен',\n",
    "              'аметист',\n",
    "              \n",
    "              'бел', \n",
    "              \n",
    "              'черн', 'чёрн',\n",
    "              \n",
    "              'рыжо', 'рыже', 'рыжи', 'рыжа'\n",
    "              'охра', 'охри',\n",
    "              'ржав',\n",
    "                            \n",
    "              'серый', 'серо', 'сере', 'сери', 'серая', \n",
    "              'серебр', 'сиз'\n",
    "             ]"
   ]
  },
  {
   "cell_type": "code",
   "execution_count": 5,
   "metadata": {},
   "outputs": [],
   "source": [
    "unnecessary = [    \n",
    "    'морозов', # розовый\n",
    "    \n",
    "    'коржав', # оранжевый, рыжый и ржавый\n",
    "    'крыж',            \n",
    "       \n",
    "    'аксинин', # синий\n",
    "    'аксинь',\n",
    "    'есинеевка',\n",
    "    'гусине',\n",
    "    \n",
    "    'кобел', # белый\n",
    "    'колыбел',\n",
    "    'аганино',\n",
    "    'агафон',\n",
    "    'агеев',\n",
    "    'аграфен',\n",
    "    'академ',\n",
    "    \n",
    "\n",
    "    # черный\n",
    "    'караул',\n",
    "    'печерник',\n",
    "    'шарапов',\n",
    "    \n",
    "    # оттенки\n",
    "    \n",
    "    'зарубин', # рубиновый\n",
    "]"
   ]
  },
  {
   "cell_type": "code",
   "execution_count": 6,
   "metadata": {},
   "outputs": [],
   "source": [
    "color_list_non_slavic = [\n",
    "    \n",
    "    # тюркские, монгольские, финские\n",
    "    \n",
    "    'кызыл', 'кизил', 'улан', 'нарьян', 'чевер' # красный\n",
    "    \n",
    "    'цаган', 'саган', # белый\n",
    "    \n",
    "    'кара', 'хара', 'шеме', # черный\n",
    "    \n",
    "    'яшел', # зеленый\n",
    "    \n",
    "    # синий\n",
    "    \n",
    "    'сары', 'шара' # желтый\n",
    "]"
   ]
  },
  {
   "cell_type": "code",
   "execution_count": null,
   "metadata": {},
   "outputs": [],
   "source": []
  },
  {
   "cell_type": "code",
   "execution_count": 7,
   "metadata": {},
   "outputs": [
    {
     "name": "stdout",
     "output_type": "stream",
     "text": [
      "Wall time: 4.03 s\n"
     ]
    }
   ],
   "source": [
    "%%time\n",
    "\n",
    "# циклом отбираем строки с нужными корнями\n",
    "\n",
    "color_cities = pd.DataFrame()\n",
    "\n",
    "for color in color_list:\n",
    "    temp = all_cities[all_cities.city.str.contains(color, case=False)]\n",
    "    color_cities = color_cities.append(temp, ignore_index = True)"
   ]
  },
  {
   "cell_type": "code",
   "execution_count": 8,
   "metadata": {},
   "outputs": [
    {
     "data": {
      "text/plain": [
       "(5724, 7)"
      ]
     },
     "execution_count": 8,
     "metadata": {},
     "output_type": "execute_result"
    }
   ],
   "source": [
    "color_cities.shape"
   ]
  },
  {
   "cell_type": "code",
   "execution_count": 9,
   "metadata": {},
   "outputs": [],
   "source": [
    "# удаляю дубликаты (образуются из-за перечения корней)\n",
    "\n",
    "color_cities.drop_duplicates(inplace=True)"
   ]
  },
  {
   "cell_type": "code",
   "execution_count": 10,
   "metadata": {},
   "outputs": [
    {
     "data": {
      "text/plain": [
       "(5650, 7)"
      ]
     },
     "execution_count": 10,
     "metadata": {},
     "output_type": "execute_result"
    }
   ],
   "source": [
    "color_cities.shape"
   ]
  },
  {
   "cell_type": "code",
   "execution_count": 11,
   "metadata": {},
   "outputs": [
    {
     "name": "stdout",
     "output_type": "stream",
     "text": [
      "Wall time: 52.9 ms\n"
     ]
    }
   ],
   "source": [
    "%%time\n",
    "\n",
    "# удаляю циклом строки с лишними корнями\n",
    "\n",
    "for toponym in unnecessary:\n",
    "    color_cities = color_cities[~(color_cities.city.str.contains(toponym, case=False))]"
   ]
  },
  {
   "cell_type": "code",
   "execution_count": 12,
   "metadata": {},
   "outputs": [
    {
     "data": {
      "text/plain": [
       "(5440, 7)"
      ]
     },
     "execution_count": 12,
     "metadata": {},
     "output_type": "execute_result"
    }
   ],
   "source": [
    "color_cities.shape"
   ]
  },
  {
   "cell_type": "code",
   "execution_count": 13,
   "metadata": {},
   "outputs": [
    {
     "data": {
      "text/html": [
       "<div>\n",
       "<style scoped>\n",
       "    .dataframe tbody tr th:only-of-type {\n",
       "        vertical-align: middle;\n",
       "    }\n",
       "\n",
       "    .dataframe tbody tr th {\n",
       "        vertical-align: top;\n",
       "    }\n",
       "\n",
       "    .dataframe thead th {\n",
       "        text-align: right;\n",
       "    }\n",
       "</style>\n",
       "<table border=\"1\" class=\"dataframe\">\n",
       "  <thead>\n",
       "    <tr style=\"text-align: right;\">\n",
       "      <th></th>\n",
       "      <th>aolevel</th>\n",
       "      <th>city_type</th>\n",
       "      <th>city</th>\n",
       "      <th>mun_district</th>\n",
       "      <th>region</th>\n",
       "      <th>okato</th>\n",
       "      <th>oktmo</th>\n",
       "    </tr>\n",
       "  </thead>\n",
       "  <tbody>\n",
       "    <tr>\n",
       "      <th>1867</th>\n",
       "      <td>6</td>\n",
       "      <td>п</td>\n",
       "      <td>Краснолесский</td>\n",
       "      <td>Узловский</td>\n",
       "      <td>Тульская область</td>\n",
       "      <td>7.024483e+10</td>\n",
       "      <td>7.064446e+10</td>\n",
       "    </tr>\n",
       "    <tr>\n",
       "      <th>2922</th>\n",
       "      <td>6</td>\n",
       "      <td>д</td>\n",
       "      <td>Зеленово</td>\n",
       "      <td>Куньинский</td>\n",
       "      <td>Псковская область</td>\n",
       "      <td>5.821687e+10</td>\n",
       "      <td>5.861643e+10</td>\n",
       "    </tr>\n",
       "    <tr>\n",
       "      <th>2969</th>\n",
       "      <td>6</td>\n",
       "      <td>д</td>\n",
       "      <td>Зеленый Луг</td>\n",
       "      <td>Велижский</td>\n",
       "      <td>Смоленская область</td>\n",
       "      <td>6.620382e+10</td>\n",
       "      <td>6.660346e+10</td>\n",
       "    </tr>\n",
       "    <tr>\n",
       "      <th>2738</th>\n",
       "      <td>6</td>\n",
       "      <td>д</td>\n",
       "      <td>Зеленино</td>\n",
       "      <td>Саянский</td>\n",
       "      <td>Красноярский край</td>\n",
       "      <td>4.248804e+09</td>\n",
       "      <td>4.648404e+09</td>\n",
       "    </tr>\n",
       "    <tr>\n",
       "      <th>1130</th>\n",
       "      <td>6</td>\n",
       "      <td>д</td>\n",
       "      <td>Красная Поляна</td>\n",
       "      <td>Арзамасский</td>\n",
       "      <td>Нижегородская область</td>\n",
       "      <td>2.220388e+10</td>\n",
       "      <td>2.260348e+10</td>\n",
       "    </tr>\n",
       "  </tbody>\n",
       "</table>\n",
       "</div>"
      ],
      "text/plain": [
       "      aolevel city_type            city mun_district                 region  \\\n",
       "1867        6         п   Краснолесский    Узловский       Тульская область   \n",
       "2922        6         д        Зеленово   Куньинский      Псковская область   \n",
       "2969        6         д     Зеленый Луг    Велижский     Смоленская область   \n",
       "2738        6         д        Зеленино     Саянский      Красноярский край   \n",
       "1130        6         д  Красная Поляна  Арзамасский  Нижегородская область   \n",
       "\n",
       "             okato         oktmo  \n",
       "1867  7.024483e+10  7.064446e+10  \n",
       "2922  5.821687e+10  5.861643e+10  \n",
       "2969  6.620382e+10  6.660346e+10  \n",
       "2738  4.248804e+09  4.648404e+09  \n",
       "1130  2.220388e+10  2.260348e+10  "
      ]
     },
     "execution_count": 13,
     "metadata": {},
     "output_type": "execute_result"
    }
   ],
   "source": [
    "color_cities.sample(5)"
   ]
  },
  {
   "cell_type": "code",
   "execution_count": 14,
   "metadata": {},
   "outputs": [],
   "source": [
    "#color_cities.to_excel('C:/Users/Boris/Desktop/work_cities.xlsx', index=False)"
   ]
  },
  {
   "cell_type": "code",
   "execution_count": 15,
   "metadata": {},
   "outputs": [],
   "source": [
    "#color_cities.to_excel('C:/00_Projects/Russia_color/temp.xlsx', index=False)"
   ]
  },
  {
   "cell_type": "code",
   "execution_count": null,
   "metadata": {},
   "outputs": [],
   "source": []
  },
  {
   "cell_type": "code",
   "execution_count": 16,
   "metadata": {},
   "outputs": [
    {
     "name": "stdout",
     "output_type": "stream",
     "text": [
      "Wall time: 1.11 s\n"
     ]
    }
   ],
   "source": [
    "%%time\n",
    "\n",
    "# циклом отбираем строки с нужными корнями\n",
    "\n",
    "color_cities_2 = pd.DataFrame()\n",
    "\n",
    "for color in color_list_non_slavic:\n",
    "    temp = all_cities[all_cities.city.str.contains(color, case=False)]\n",
    "    color_cities_2 = color_cities_2.append(temp, ignore_index = True)\n",
    "    \n",
    "temp = all_cities[all_cities.city.str.contains('Ак', case=True)]\n",
    "color_cities_2 = color_cities_2.append(temp, ignore_index = True)\n",
    "\n",
    "temp = all_cities[all_cities.city.str.contains('Аг', case=True)]\n",
    "color_cities_2 = color_cities_2.append(temp, ignore_index = True)"
   ]
  },
  {
   "cell_type": "code",
   "execution_count": 17,
   "metadata": {},
   "outputs": [
    {
     "data": {
      "text/plain": [
       "(1789, 7)"
      ]
     },
     "execution_count": 17,
     "metadata": {},
     "output_type": "execute_result"
    }
   ],
   "source": [
    "color_cities_2.shape"
   ]
  },
  {
   "cell_type": "code",
   "execution_count": 18,
   "metadata": {},
   "outputs": [],
   "source": [
    "color_cities_2.drop_duplicates(inplace=True)"
   ]
  },
  {
   "cell_type": "code",
   "execution_count": 19,
   "metadata": {},
   "outputs": [
    {
     "data": {
      "text/plain": [
       "(1786, 7)"
      ]
     },
     "execution_count": 19,
     "metadata": {},
     "output_type": "execute_result"
    }
   ],
   "source": [
    "color_cities_2.shape"
   ]
  },
  {
   "cell_type": "code",
   "execution_count": 20,
   "metadata": {},
   "outputs": [],
   "source": [
    "#color_cities_2.to_excel('C:/00_Projects/Russia_color/temp.xlsx', index=False)"
   ]
  },
  {
   "cell_type": "code",
   "execution_count": null,
   "metadata": {},
   "outputs": [],
   "source": []
  },
  {
   "cell_type": "markdown",
   "metadata": {},
   "source": [
    "### 100 самых распространенных названий ###"
   ]
  },
  {
   "cell_type": "markdown",
   "metadata": {},
   "source": [
    "Если у поселков одного муниципального района одни и те же названия, в ФИАС указывается в скобках уточнение (обычно сельсовет).\n",
    "\n",
    "Также в скобках иногда приводится второе название, но для нашей задачи они не важны (в топ-100 эти названия не входят)."
   ]
  },
  {
   "cell_type": "code",
   "execution_count": 21,
   "metadata": {},
   "outputs": [
    {
     "data": {
      "text/plain": [
       "(2160, 7)"
      ]
     },
     "execution_count": 21,
     "metadata": {},
     "output_type": "execute_result"
    }
   ],
   "source": [
    "# Количество названий с уточнениями\n",
    "\n",
    "all_cities[all_cities.city.str.contains(' \\(', case=False)].shape"
   ]
  },
  {
   "cell_type": "code",
   "execution_count": 33,
   "metadata": {},
   "outputs": [],
   "source": [
    "# код удаляет уточнения (все, что после пробела и скобки)\n",
    "\n",
    "(\n",
    "    all_cities.city.replace(regex=True, to_replace=r' \\(.*', value=r'')\n",
    "    .replace(regex=True, to_replace=r'ё', value=r'е')\n",
    "    .value_counts()\n",
    "    .reset_index()\n",
    "    .head(1000)\n",
    ").to_excel('C:/00_Projects/Russia_color/temp.xlsx', index=False)"
   ]
  },
  {
   "cell_type": "code",
   "execution_count": null,
   "metadata": {},
   "outputs": [],
   "source": []
  }
 ],
 "metadata": {
  "kernelspec": {
   "display_name": "Python 3",
   "language": "python",
   "name": "python3"
  },
  "language_info": {
   "codemirror_mode": {
    "name": "ipython",
    "version": 3
   },
   "file_extension": ".py",
   "mimetype": "text/x-python",
   "name": "python",
   "nbconvert_exporter": "python",
   "pygments_lexer": "ipython3",
   "version": "3.7.4"
  }
 },
 "nbformat": 4,
 "nbformat_minor": 2
}
