{
 "cells": [
  {
   "cell_type": "code",
   "execution_count": 1,
   "metadata": {},
   "outputs": [],
   "source": [
    "import pandas as pd\n",
    "import numpy as np\n",
    "\n",
    "pd.set_option('precision', 13)\n",
    "pd.options.display.max_rows = 100"
   ]
  },
  {
   "cell_type": "code",
   "execution_count": 2,
   "metadata": {},
   "outputs": [],
   "source": [
    "# загружаем города и поселки\n",
    "\n",
    "work_cities = pd.read_csv('C:/00_Projects/Russia_color/all_cities_original.csv')"
   ]
  },
  {
   "cell_type": "code",
   "execution_count": null,
   "metadata": {},
   "outputs": [],
   "source": []
  },
  {
   "cell_type": "markdown",
   "metadata": {},
   "source": [
    "### Проверяем пустые значения ###"
   ]
  },
  {
   "cell_type": "code",
   "execution_count": 3,
   "metadata": {},
   "outputs": [
    {
     "data": {
      "text/html": [
       "<div>\n",
       "<style scoped>\n",
       "    .dataframe tbody tr th:only-of-type {\n",
       "        vertical-align: middle;\n",
       "    }\n",
       "\n",
       "    .dataframe tbody tr th {\n",
       "        vertical-align: top;\n",
       "    }\n",
       "\n",
       "    .dataframe thead th {\n",
       "        text-align: right;\n",
       "    }\n",
       "</style>\n",
       "<table border=\"1\" class=\"dataframe\">\n",
       "  <thead>\n",
       "    <tr style=\"text-align: right;\">\n",
       "      <th></th>\n",
       "      <th>aolevel</th>\n",
       "      <th>formalname</th>\n",
       "      <th>offname</th>\n",
       "      <th>shortname</th>\n",
       "      <th>plaincode</th>\n",
       "      <th>regioncode</th>\n",
       "      <th>areacode</th>\n",
       "      <th>citycode</th>\n",
       "      <th>okato</th>\n",
       "      <th>oktmo</th>\n",
       "      <th>region</th>\n",
       "      <th>mun_code</th>\n",
       "      <th>mun_district</th>\n",
       "    </tr>\n",
       "  </thead>\n",
       "  <tbody>\n",
       "  </tbody>\n",
       "</table>\n",
       "</div>"
      ],
      "text/plain": [
       "Empty DataFrame\n",
       "Columns: [aolevel, formalname, offname, shortname, plaincode, regioncode, areacode, citycode, okato, oktmo, region, mun_code, mun_district]\n",
       "Index: []"
      ]
     },
     "execution_count": 3,
     "metadata": {},
     "output_type": "execute_result"
    }
   ],
   "source": [
    "# смотрим пустые значения\n",
    "\n",
    "work_cities[work_cities.offname.isnull()]"
   ]
  },
  {
   "cell_type": "code",
   "execution_count": 4,
   "metadata": {},
   "outputs": [
    {
     "data": {
      "text/html": [
       "<div>\n",
       "<style scoped>\n",
       "    .dataframe tbody tr th:only-of-type {\n",
       "        vertical-align: middle;\n",
       "    }\n",
       "\n",
       "    .dataframe tbody tr th {\n",
       "        vertical-align: top;\n",
       "    }\n",
       "\n",
       "    .dataframe thead th {\n",
       "        text-align: right;\n",
       "    }\n",
       "</style>\n",
       "<table border=\"1\" class=\"dataframe\">\n",
       "  <thead>\n",
       "    <tr style=\"text-align: right;\">\n",
       "      <th></th>\n",
       "      <th>aolevel</th>\n",
       "      <th>formalname</th>\n",
       "      <th>offname</th>\n",
       "      <th>shortname</th>\n",
       "      <th>plaincode</th>\n",
       "      <th>regioncode</th>\n",
       "      <th>areacode</th>\n",
       "      <th>citycode</th>\n",
       "      <th>okato</th>\n",
       "      <th>oktmo</th>\n",
       "      <th>region</th>\n",
       "      <th>mun_code</th>\n",
       "      <th>mun_district</th>\n",
       "    </tr>\n",
       "  </thead>\n",
       "  <tbody>\n",
       "  </tbody>\n",
       "</table>\n",
       "</div>"
      ],
      "text/plain": [
       "Empty DataFrame\n",
       "Columns: [aolevel, formalname, offname, shortname, plaincode, regioncode, areacode, citycode, okato, oktmo, region, mun_code, mun_district]\n",
       "Index: []"
      ]
     },
     "execution_count": 4,
     "metadata": {},
     "output_type": "execute_result"
    }
   ],
   "source": [
    "# в столбце city (бывшем formalname)\n",
    "\n",
    "work_cities[work_cities.formalname.isnull()]"
   ]
  },
  {
   "cell_type": "code",
   "execution_count": null,
   "metadata": {},
   "outputs": [],
   "source": []
  },
  {
   "cell_type": "markdown",
   "metadata": {},
   "source": [
    "### Переименовываем столбцы ###"
   ]
  },
  {
   "cell_type": "code",
   "execution_count": 5,
   "metadata": {},
   "outputs": [
    {
     "data": {
      "text/plain": [
       "Index(['aolevel', 'formalname', 'offname', 'shortname', 'plaincode',\n",
       "       'regioncode', 'areacode', 'citycode', 'okato', 'oktmo', 'region',\n",
       "       'mun_code', 'mun_district'],\n",
       "      dtype='object')"
      ]
     },
     "execution_count": 5,
     "metadata": {},
     "output_type": "execute_result"
    }
   ],
   "source": [
    "work_cities.columns"
   ]
  },
  {
   "cell_type": "code",
   "execution_count": 6,
   "metadata": {},
   "outputs": [],
   "source": [
    "# оставляю нужные столбцы (беру formalname, в offname есть опечатки в названиях)\n",
    "\n",
    "work_cities = work_cities[['aolevel', 'shortname', 'formalname',\n",
    "                          'mun_district', 'region', 'okato', 'oktmo']]"
   ]
  },
  {
   "cell_type": "code",
   "execution_count": 7,
   "metadata": {},
   "outputs": [],
   "source": [
    "# перименовываю столбцы (city у меня - любой населенный пункт)\n",
    "\n",
    "work_cities = work_cities.rename(columns={\n",
    "    'shortname': 'city_type',\n",
    "    'formalname': 'city'})"
   ]
  },
  {
   "cell_type": "code",
   "execution_count": null,
   "metadata": {},
   "outputs": [],
   "source": []
  },
  {
   "cell_type": "markdown",
   "metadata": {},
   "source": [
    "## Удаляем дубликаты ##\n",
    "\n",
    "Хотя мы удаляли дубликаты на предыдущем этапе, они все равно есть.\n",
    "\n",
    "Но на всякий случай проверим, точно ли это идентичные записи.\n",
    "\n",
    "**P.S.** У меня есть гипотеза, что это записи из разных таблиц. Т.е. некоторые записи дублируют в другой регион по ошибке или населенный пункт меняет принадлежность, но остается в таблице бывшего родительского региона с новым кодом."
   ]
  },
  {
   "cell_type": "markdown",
   "metadata": {},
   "source": [
    "### Проверяем ###"
   ]
  },
  {
   "cell_type": "code",
   "execution_count": 8,
   "metadata": {},
   "outputs": [],
   "source": [
    "# заводим тестовый датафрейм\n",
    "\n",
    "test = work_cities[work_cities.duplicated(keep=False)]"
   ]
  },
  {
   "cell_type": "code",
   "execution_count": 9,
   "metadata": {},
   "outputs": [
    {
     "name": "stdout",
     "output_type": "stream",
     "text": [
      "[[160481, 162429], [159581, 160173], [144845, 144865], [139446, 140514], [157537, 158793], [69133, 69721], [160619, 163217], [68518, 68660], [158522, 161012], [68394, 69271], [3446, 5326], [160385, 161038], [65424, 67812], [85139, 85541], [83996, 85446], [159536, 162657], [39370, 39464], [164299, 164548], [98729, 99086], [36226, 36640], [2831, 5324], [250, 1950], [1260, 5195]]\n"
     ]
    }
   ],
   "source": [
    "# смотрим индексы совпадающих строк\n",
    "\n",
    "print(test.groupby(test.columns.tolist()).apply(lambda x: x.index.tolist()).values.tolist())"
   ]
  },
  {
   "cell_type": "code",
   "execution_count": 10,
   "metadata": {},
   "outputs": [
    {
     "data": {
      "text/html": [
       "<div>\n",
       "<style scoped>\n",
       "    .dataframe tbody tr th:only-of-type {\n",
       "        vertical-align: middle;\n",
       "    }\n",
       "\n",
       "    .dataframe tbody tr th {\n",
       "        vertical-align: top;\n",
       "    }\n",
       "\n",
       "    .dataframe thead th {\n",
       "        text-align: right;\n",
       "    }\n",
       "</style>\n",
       "<table border=\"1\" class=\"dataframe\">\n",
       "  <thead>\n",
       "    <tr style=\"text-align: right;\">\n",
       "      <th></th>\n",
       "      <th>aolevel</th>\n",
       "      <th>city_type</th>\n",
       "      <th>city</th>\n",
       "      <th>mun_district</th>\n",
       "      <th>region</th>\n",
       "      <th>okato</th>\n",
       "      <th>oktmo</th>\n",
       "    </tr>\n",
       "  </thead>\n",
       "  <tbody>\n",
       "    <tr>\n",
       "      <th>160481</th>\n",
       "      <td>6</td>\n",
       "      <td>д</td>\n",
       "      <td>Горки</td>\n",
       "      <td>Ростовский</td>\n",
       "      <td>Ярославская область</td>\n",
       "      <td>78237820009.0</td>\n",
       "      <td>78637441276.0</td>\n",
       "    </tr>\n",
       "    <tr>\n",
       "      <th>162429</th>\n",
       "      <td>6</td>\n",
       "      <td>д</td>\n",
       "      <td>Горки</td>\n",
       "      <td>Ростовский</td>\n",
       "      <td>Ярославская область</td>\n",
       "      <td>78237820009.0</td>\n",
       "      <td>78637441276.0</td>\n",
       "    </tr>\n",
       "  </tbody>\n",
       "</table>\n",
       "</div>"
      ],
      "text/plain": [
       "        aolevel city_type   city mun_district               region  \\\n",
       "160481        6         д  Горки   Ростовский  Ярославская область   \n",
       "162429        6         д  Горки   Ростовский  Ярославская область   \n",
       "\n",
       "                okato          oktmo  \n",
       "160481  78237820009.0  78637441276.0  \n",
       "162429  78237820009.0  78637441276.0  "
      ]
     },
     "execution_count": 10,
     "metadata": {},
     "output_type": "execute_result"
    }
   ],
   "source": [
    "# нужно вставить индексы из прошлой ячейки\n",
    "\n",
    "work_cities.loc[[160481, 162429]]"
   ]
  },
  {
   "cell_type": "code",
   "execution_count": 11,
   "metadata": {},
   "outputs": [
    {
     "data": {
      "text/html": [
       "<div>\n",
       "<style scoped>\n",
       "    .dataframe tbody tr th:only-of-type {\n",
       "        vertical-align: middle;\n",
       "    }\n",
       "\n",
       "    .dataframe tbody tr th {\n",
       "        vertical-align: top;\n",
       "    }\n",
       "\n",
       "    .dataframe thead th {\n",
       "        text-align: right;\n",
       "    }\n",
       "</style>\n",
       "<table border=\"1\" class=\"dataframe\">\n",
       "  <thead>\n",
       "    <tr style=\"text-align: right;\">\n",
       "      <th></th>\n",
       "      <th>aolevel</th>\n",
       "      <th>city_type</th>\n",
       "      <th>city</th>\n",
       "      <th>mun_district</th>\n",
       "      <th>region</th>\n",
       "      <th>okato</th>\n",
       "      <th>oktmo</th>\n",
       "    </tr>\n",
       "  </thead>\n",
       "  <tbody>\n",
       "    <tr>\n",
       "      <th>2831</th>\n",
       "      <td>6</td>\n",
       "      <td>с</td>\n",
       "      <td>Леуза</td>\n",
       "      <td>Кигинский</td>\n",
       "      <td>Башкортостан</td>\n",
       "      <td>80236840001.0</td>\n",
       "      <td>80636440101.0</td>\n",
       "    </tr>\n",
       "    <tr>\n",
       "      <th>5324</th>\n",
       "      <td>6</td>\n",
       "      <td>с</td>\n",
       "      <td>Леуза</td>\n",
       "      <td>Кигинский</td>\n",
       "      <td>Башкортостан</td>\n",
       "      <td>80236840001.0</td>\n",
       "      <td>80636440101.0</td>\n",
       "    </tr>\n",
       "  </tbody>\n",
       "</table>\n",
       "</div>"
      ],
      "text/plain": [
       "      aolevel city_type   city mun_district        region          okato  \\\n",
       "2831        6         с  Леуза    Кигинский  Башкортостан  80236840001.0   \n",
       "5324        6         с  Леуза    Кигинский  Башкортостан  80236840001.0   \n",
       "\n",
       "              oktmo  \n",
       "2831  80636440101.0  \n",
       "5324  80636440101.0  "
      ]
     },
     "execution_count": 11,
     "metadata": {},
     "output_type": "execute_result"
    }
   ],
   "source": [
    "work_cities.loc[[2831, 5324]]"
   ]
  },
  {
   "cell_type": "markdown",
   "metadata": {},
   "source": [
    "### Удаляем ###"
   ]
  },
  {
   "cell_type": "code",
   "execution_count": 12,
   "metadata": {},
   "outputs": [
    {
     "data": {
      "text/plain": [
       "(166093, 7)"
      ]
     },
     "execution_count": 12,
     "metadata": {},
     "output_type": "execute_result"
    }
   ],
   "source": [
    "work_cities.shape"
   ]
  },
  {
   "cell_type": "code",
   "execution_count": 13,
   "metadata": {},
   "outputs": [],
   "source": [
    "work_cities = work_cities.drop_duplicates()"
   ]
  },
  {
   "cell_type": "code",
   "execution_count": 14,
   "metadata": {},
   "outputs": [
    {
     "data": {
      "text/plain": [
       "(166070, 7)"
      ]
     },
     "execution_count": 14,
     "metadata": {},
     "output_type": "execute_result"
    }
   ],
   "source": [
    "work_cities.shape"
   ]
  },
  {
   "cell_type": "markdown",
   "metadata": {},
   "source": [
    "**Удаляем районы (муниципальные образования)**\n",
    "\n",
    "Они остались с прошлого шага"
   ]
  },
  {
   "cell_type": "code",
   "execution_count": 15,
   "metadata": {},
   "outputs": [],
   "source": [
    "# aolevel - 3 и city_type - р-н\n",
    "\n",
    "work_cities = work_cities[~((work_cities.aolevel == 3) &\n",
    "           (work_cities.city_type == 'р-н'))]"
   ]
  },
  {
   "cell_type": "code",
   "execution_count": 16,
   "metadata": {},
   "outputs": [
    {
     "data": {
      "text/plain": [
       "(164269, 7)"
      ]
     },
     "execution_count": 16,
     "metadata": {},
     "output_type": "execute_result"
    }
   ],
   "source": [
    "work_cities.shape"
   ]
  },
  {
   "cell_type": "code",
   "execution_count": 17,
   "metadata": {},
   "outputs": [
    {
     "data": {
      "text/html": [
       "<div>\n",
       "<style scoped>\n",
       "    .dataframe tbody tr th:only-of-type {\n",
       "        vertical-align: middle;\n",
       "    }\n",
       "\n",
       "    .dataframe tbody tr th {\n",
       "        vertical-align: top;\n",
       "    }\n",
       "\n",
       "    .dataframe thead th {\n",
       "        text-align: right;\n",
       "    }\n",
       "</style>\n",
       "<table border=\"1\" class=\"dataframe\">\n",
       "  <thead>\n",
       "    <tr style=\"text-align: right;\">\n",
       "      <th></th>\n",
       "      <th>aolevel</th>\n",
       "      <th>city_type</th>\n",
       "      <th>city</th>\n",
       "      <th>mun_district</th>\n",
       "      <th>region</th>\n",
       "      <th>okato</th>\n",
       "      <th>oktmo</th>\n",
       "    </tr>\n",
       "  </thead>\n",
       "  <tbody>\n",
       "    <tr>\n",
       "      <th>0</th>\n",
       "      <td>6</td>\n",
       "      <td>х</td>\n",
       "      <td>Советский</td>\n",
       "      <td>Майкопский</td>\n",
       "      <td>Адыгея</td>\n",
       "      <td>79222000044.0</td>\n",
       "      <td>79622420136.0</td>\n",
       "    </tr>\n",
       "    <tr>\n",
       "      <th>1</th>\n",
       "      <td>6</td>\n",
       "      <td>ст</td>\n",
       "      <td>Шенджий</td>\n",
       "      <td>Тахтамукайский</td>\n",
       "      <td>Адыгея</td>\n",
       "      <td>79230000025.0</td>\n",
       "      <td>79630419101.0</td>\n",
       "    </tr>\n",
       "    <tr>\n",
       "      <th>2</th>\n",
       "      <td>6</td>\n",
       "      <td>ст-ца</td>\n",
       "      <td>Ханская</td>\n",
       "      <td>Майкоп</td>\n",
       "      <td>Адыгея</td>\n",
       "      <td>79401000008.0</td>\n",
       "      <td>79701000141.0</td>\n",
       "    </tr>\n",
       "    <tr>\n",
       "      <th>3</th>\n",
       "      <td>6</td>\n",
       "      <td>аул</td>\n",
       "      <td>Гатлукай</td>\n",
       "      <td>Адыгейск</td>\n",
       "      <td>Адыгея</td>\n",
       "      <td>79403000001.0</td>\n",
       "      <td>79703000106.0</td>\n",
       "    </tr>\n",
       "    <tr>\n",
       "      <th>4</th>\n",
       "      <td>6</td>\n",
       "      <td>х</td>\n",
       "      <td>Псекупс</td>\n",
       "      <td>Адыгейск</td>\n",
       "      <td>Адыгея</td>\n",
       "      <td>79403000002.0</td>\n",
       "      <td>79703000111.0</td>\n",
       "    </tr>\n",
       "    <tr>\n",
       "      <th>...</th>\n",
       "      <td>...</td>\n",
       "      <td>...</td>\n",
       "      <td>...</td>\n",
       "      <td>...</td>\n",
       "      <td>...</td>\n",
       "      <td>...</td>\n",
       "      <td>...</td>\n",
       "    </tr>\n",
       "    <tr>\n",
       "      <th>166088</th>\n",
       "      <td>6</td>\n",
       "      <td>с</td>\n",
       "      <td>Оборонное</td>\n",
       "      <td>Оборонное</td>\n",
       "      <td>Севастополь</td>\n",
       "      <td>67263000000.0</td>\n",
       "      <td>67302000146.0</td>\n",
       "    </tr>\n",
       "    <tr>\n",
       "      <th>166089</th>\n",
       "      <td>6</td>\n",
       "      <td>с</td>\n",
       "      <td>Морозовка</td>\n",
       "      <td>Морозовка</td>\n",
       "      <td>Севастополь</td>\n",
       "      <td>67263000000.0</td>\n",
       "      <td>67300000.0</td>\n",
       "    </tr>\n",
       "    <tr>\n",
       "      <th>166090</th>\n",
       "      <td>6</td>\n",
       "      <td>с</td>\n",
       "      <td>Родниковое</td>\n",
       "      <td>Родниковое</td>\n",
       "      <td>Севастополь</td>\n",
       "      <td>67263000000.0</td>\n",
       "      <td>67306000141.0</td>\n",
       "    </tr>\n",
       "    <tr>\n",
       "      <th>166091</th>\n",
       "      <td>6</td>\n",
       "      <td>п</td>\n",
       "      <td>Кача</td>\n",
       "      <td>Кача</td>\n",
       "      <td>Севастополь</td>\n",
       "      <td>67269000000.0</td>\n",
       "      <td>67320000051.0</td>\n",
       "    </tr>\n",
       "    <tr>\n",
       "      <th>166092</th>\n",
       "      <td>6</td>\n",
       "      <td>с</td>\n",
       "      <td>Верхнесадовое</td>\n",
       "      <td>Верхнесадовое</td>\n",
       "      <td>Севастополь</td>\n",
       "      <td>67269000000.0</td>\n",
       "      <td>67316000101.0</td>\n",
       "    </tr>\n",
       "  </tbody>\n",
       "</table>\n",
       "<p>164269 rows × 7 columns</p>\n",
       "</div>"
      ],
      "text/plain": [
       "        aolevel city_type           city    mun_district       region  \\\n",
       "0             6         х      Советский      Майкопский       Адыгея   \n",
       "1             6        ст        Шенджий  Тахтамукайский       Адыгея   \n",
       "2             6     ст-ца        Ханская          Майкоп       Адыгея   \n",
       "3             6       аул       Гатлукай        Адыгейск       Адыгея   \n",
       "4             6         х        Псекупс        Адыгейск       Адыгея   \n",
       "...         ...       ...            ...             ...          ...   \n",
       "166088        6         с      Оборонное       Оборонное  Севастополь   \n",
       "166089        6         с      Морозовка       Морозовка  Севастополь   \n",
       "166090        6         с     Родниковое      Родниковое  Севастополь   \n",
       "166091        6         п           Кача            Кача  Севастополь   \n",
       "166092        6         с  Верхнесадовое   Верхнесадовое  Севастополь   \n",
       "\n",
       "                okato          oktmo  \n",
       "0       79222000044.0  79622420136.0  \n",
       "1       79230000025.0  79630419101.0  \n",
       "2       79401000008.0  79701000141.0  \n",
       "3       79403000001.0  79703000106.0  \n",
       "4       79403000002.0  79703000111.0  \n",
       "...               ...            ...  \n",
       "166088  67263000000.0  67302000146.0  \n",
       "166089  67263000000.0     67300000.0  \n",
       "166090  67263000000.0  67306000141.0  \n",
       "166091  67269000000.0  67320000051.0  \n",
       "166092  67269000000.0  67316000101.0  \n",
       "\n",
       "[164269 rows x 7 columns]"
      ]
     },
     "execution_count": 17,
     "metadata": {},
     "output_type": "execute_result"
    }
   ],
   "source": [
    "work_cities"
   ]
  },
  {
   "cell_type": "markdown",
   "metadata": {},
   "source": [
    "**Меняем \"г.\" на \"г\", \"пгт.\" на \"пгт\" и \"сп.\" на \"сп\"**"
   ]
  },
  {
   "cell_type": "code",
   "execution_count": 18,
   "metadata": {},
   "outputs": [],
   "source": [
    "work_cities.city_type.replace('г.', 'г', inplace=True)\n",
    "work_cities.city_type.replace('сп.', 'сп', inplace=True)\n",
    "work_cities.city_type.replace('пгт.', 'пгт', inplace=True)"
   ]
  },
  {
   "cell_type": "code",
   "execution_count": 19,
   "metadata": {},
   "outputs": [
    {
     "data": {
      "text/plain": [
       "(0, 7)"
      ]
     },
     "execution_count": 19,
     "metadata": {},
     "output_type": "execute_result"
    }
   ],
   "source": [
    "work_cities[work_cities.city_type == 'г.'].shape "
   ]
  },
  {
   "cell_type": "code",
   "execution_count": null,
   "metadata": {},
   "outputs": [],
   "source": []
  },
  {
   "cell_type": "markdown",
   "metadata": {},
   "source": [
    "### Записываем в файл ###\n"
   ]
  },
  {
   "cell_type": "code",
   "execution_count": 20,
   "metadata": {},
   "outputs": [],
   "source": [
    "work_cities.to_csv('C:/00_Projects/Russia_color/all_cities.csv',\n",
    "                  sep=',', encoding='utf-8', index=False)"
   ]
  },
  {
   "cell_type": "code",
   "execution_count": null,
   "metadata": {},
   "outputs": [],
   "source": []
  },
  {
   "cell_type": "markdown",
   "metadata": {},
   "source": [
    "## Чистим города и поселки ##"
   ]
  },
  {
   "cell_type": "code",
   "execution_count": 21,
   "metadata": {},
   "outputs": [
    {
     "data": {
      "text/html": [
       "<div>\n",
       "<style scoped>\n",
       "    .dataframe tbody tr th:only-of-type {\n",
       "        vertical-align: middle;\n",
       "    }\n",
       "\n",
       "    .dataframe tbody tr th {\n",
       "        vertical-align: top;\n",
       "    }\n",
       "\n",
       "    .dataframe thead th {\n",
       "        text-align: right;\n",
       "    }\n",
       "</style>\n",
       "<table border=\"1\" class=\"dataframe\">\n",
       "  <thead>\n",
       "    <tr style=\"text-align: right;\">\n",
       "      <th></th>\n",
       "      <th>aolevel</th>\n",
       "      <th>city_type</th>\n",
       "      <th>city</th>\n",
       "      <th>mun_district</th>\n",
       "      <th>region</th>\n",
       "      <th>okato</th>\n",
       "      <th>oktmo</th>\n",
       "    </tr>\n",
       "  </thead>\n",
       "  <tbody>\n",
       "    <tr>\n",
       "      <th>24703</th>\n",
       "      <td>6</td>\n",
       "      <td>с</td>\n",
       "      <td>Майорка</td>\n",
       "      <td>Чарышский</td>\n",
       "      <td>Алтайский край</td>\n",
       "      <td>1258811003.0</td>\n",
       "      <td>1658411111.0</td>\n",
       "    </tr>\n",
       "    <tr>\n",
       "      <th>160973</th>\n",
       "      <td>6</td>\n",
       "      <td>д</td>\n",
       "      <td>Бутакино</td>\n",
       "      <td>Рыбинский</td>\n",
       "      <td>Ярославская область</td>\n",
       "      <td>78240810008.0</td>\n",
       "      <td>78640410151.0</td>\n",
       "    </tr>\n",
       "    <tr>\n",
       "      <th>117565</th>\n",
       "      <td>6</td>\n",
       "      <td>д</td>\n",
       "      <td>Лехово</td>\n",
       "      <td>Новоржевский</td>\n",
       "      <td>Псковская область</td>\n",
       "      <td>58223805015.0</td>\n",
       "      <td>58623405226.0</td>\n",
       "    </tr>\n",
       "    <tr>\n",
       "      <th>48965</th>\n",
       "      <td>6</td>\n",
       "      <td>д</td>\n",
       "      <td>Котельное</td>\n",
       "      <td>Никольский</td>\n",
       "      <td>Вологодская область</td>\n",
       "      <td>19234812006.0</td>\n",
       "      <td>19634456246.0</td>\n",
       "    </tr>\n",
       "    <tr>\n",
       "      <th>133807</th>\n",
       "      <td>6</td>\n",
       "      <td>д</td>\n",
       "      <td>Чальцево</td>\n",
       "      <td>Краснинский</td>\n",
       "      <td>Смоленская область</td>\n",
       "      <td>66224810014.0</td>\n",
       "      <td>66624455187.0</td>\n",
       "    </tr>\n",
       "    <tr>\n",
       "      <th>23316</th>\n",
       "      <td>6</td>\n",
       "      <td>тер</td>\n",
       "      <td>сдт Барнаульское</td>\n",
       "      <td>Бийский</td>\n",
       "      <td>Алтайский край</td>\n",
       "      <td>1204859001.0</td>\n",
       "      <td>1604459101.0</td>\n",
       "    </tr>\n",
       "    <tr>\n",
       "      <th>103331</th>\n",
       "      <td>6</td>\n",
       "      <td>д</td>\n",
       "      <td>Калинина</td>\n",
       "      <td>Болховский</td>\n",
       "      <td>Орловская область</td>\n",
       "      <td>54204834008.0</td>\n",
       "      <td>54604434136.0</td>\n",
       "    </tr>\n",
       "    <tr>\n",
       "      <th>78131</th>\n",
       "      <td>6</td>\n",
       "      <td>д</td>\n",
       "      <td>Журавлево</td>\n",
       "      <td>Бокситогорский</td>\n",
       "      <td>Ленинградская область</td>\n",
       "      <td>41203000124.0</td>\n",
       "      <td>41603155124.0</td>\n",
       "    </tr>\n",
       "    <tr>\n",
       "      <th>142029</th>\n",
       "      <td>6</td>\n",
       "      <td>д</td>\n",
       "      <td>Задорье</td>\n",
       "      <td>Жарковский</td>\n",
       "      <td>Тверская область</td>\n",
       "      <td>28214832004.0</td>\n",
       "      <td>28614440192.0</td>\n",
       "    </tr>\n",
       "    <tr>\n",
       "      <th>160841</th>\n",
       "      <td>6</td>\n",
       "      <td>д</td>\n",
       "      <td>Юрино</td>\n",
       "      <td>Переславский</td>\n",
       "      <td>Ярославская область</td>\n",
       "      <td>78232816039.0</td>\n",
       "      <td>78705000561.0</td>\n",
       "    </tr>\n",
       "  </tbody>\n",
       "</table>\n",
       "</div>"
      ],
      "text/plain": [
       "        aolevel city_type              city    mun_district  \\\n",
       "24703         6         с           Майорка       Чарышский   \n",
       "160973        6         д          Бутакино       Рыбинский   \n",
       "117565        6         д            Лехово    Новоржевский   \n",
       "48965         6         д         Котельное      Никольский   \n",
       "133807        6         д          Чальцево     Краснинский   \n",
       "23316         6       тер  сдт Барнаульское         Бийский   \n",
       "103331        6         д          Калинина      Болховский   \n",
       "78131         6         д         Журавлево  Бокситогорский   \n",
       "142029        6         д           Задорье      Жарковский   \n",
       "160841        6         д             Юрино    Переславский   \n",
       "\n",
       "                       region          okato          oktmo  \n",
       "24703          Алтайский край   1258811003.0   1658411111.0  \n",
       "160973    Ярославская область  78240810008.0  78640410151.0  \n",
       "117565      Псковская область  58223805015.0  58623405226.0  \n",
       "48965     Вологодская область  19234812006.0  19634456246.0  \n",
       "133807     Смоленская область  66224810014.0  66624455187.0  \n",
       "23316          Алтайский край   1204859001.0   1604459101.0  \n",
       "103331      Орловская область  54204834008.0  54604434136.0  \n",
       "78131   Ленинградская область  41203000124.0  41603155124.0  \n",
       "142029       Тверская область  28214832004.0  28614440192.0  \n",
       "160841    Ярославская область  78232816039.0  78705000561.0  "
      ]
     },
     "execution_count": 21,
     "metadata": {},
     "output_type": "execute_result"
    }
   ],
   "source": [
    "work_cities.sample(10)"
   ]
  },
  {
   "cell_type": "code",
   "execution_count": 22,
   "metadata": {},
   "outputs": [
    {
     "data": {
      "text/plain": [
       "61"
      ]
     },
     "execution_count": 22,
     "metadata": {},
     "output_type": "execute_result"
    }
   ],
   "source": [
    "# смотрим сколько вообще  типов населенных пунктов есть в базе\n",
    "\n",
    "work_cities.city_type.nunique()"
   ]
  },
  {
   "cell_type": "code",
   "execution_count": 23,
   "metadata": {},
   "outputs": [
    {
     "data": {
      "text/html": [
       "<div>\n",
       "<style scoped>\n",
       "    .dataframe tbody tr th:only-of-type {\n",
       "        vertical-align: middle;\n",
       "    }\n",
       "\n",
       "    .dataframe tbody tr th {\n",
       "        vertical-align: top;\n",
       "    }\n",
       "\n",
       "    .dataframe thead th {\n",
       "        text-align: right;\n",
       "    }\n",
       "</style>\n",
       "<table border=\"1\" class=\"dataframe\">\n",
       "  <thead>\n",
       "    <tr style=\"text-align: right;\">\n",
       "      <th></th>\n",
       "      <th>city_type</th>\n",
       "      <th>city_number</th>\n",
       "    </tr>\n",
       "  </thead>\n",
       "  <tbody>\n",
       "    <tr>\n",
       "      <th>60</th>\n",
       "      <td>х</td>\n",
       "      <td>5777</td>\n",
       "    </tr>\n",
       "    <tr>\n",
       "      <th>59</th>\n",
       "      <td>у</td>\n",
       "      <td>222</td>\n",
       "    </tr>\n",
       "    <tr>\n",
       "      <th>58</th>\n",
       "      <td>тер</td>\n",
       "      <td>2275</td>\n",
       "    </tr>\n",
       "    <tr>\n",
       "      <th>57</th>\n",
       "      <td>ст-ца</td>\n",
       "      <td>444</td>\n",
       "    </tr>\n",
       "    <tr>\n",
       "      <th>56</th>\n",
       "      <td>ст</td>\n",
       "      <td>516</td>\n",
       "    </tr>\n",
       "    <tr>\n",
       "      <th>55</th>\n",
       "      <td>сп</td>\n",
       "      <td>51</td>\n",
       "    </tr>\n",
       "    <tr>\n",
       "      <th>54</th>\n",
       "      <td>снт</td>\n",
       "      <td>1678</td>\n",
       "    </tr>\n",
       "    <tr>\n",
       "      <th>53</th>\n",
       "      <td>сл</td>\n",
       "      <td>89</td>\n",
       "    </tr>\n",
       "    <tr>\n",
       "      <th>52</th>\n",
       "      <td>с/с</td>\n",
       "      <td>751</td>\n",
       "    </tr>\n",
       "    <tr>\n",
       "      <th>51</th>\n",
       "      <td>с/п</td>\n",
       "      <td>733</td>\n",
       "    </tr>\n",
       "    <tr>\n",
       "      <th>50</th>\n",
       "      <td>с/о</td>\n",
       "      <td>1</td>\n",
       "    </tr>\n",
       "    <tr>\n",
       "      <th>49</th>\n",
       "      <td>с/мо</td>\n",
       "      <td>7</td>\n",
       "    </tr>\n",
       "    <tr>\n",
       "      <th>48</th>\n",
       "      <td>с/а</td>\n",
       "      <td>2</td>\n",
       "    </tr>\n",
       "    <tr>\n",
       "      <th>47</th>\n",
       "      <td>с</td>\n",
       "      <td>30821</td>\n",
       "    </tr>\n",
       "    <tr>\n",
       "      <th>46</th>\n",
       "      <td>рп</td>\n",
       "      <td>535</td>\n",
       "    </tr>\n",
       "    <tr>\n",
       "      <th>45</th>\n",
       "      <td>рзд</td>\n",
       "      <td>274</td>\n",
       "    </tr>\n",
       "    <tr>\n",
       "      <th>44</th>\n",
       "      <td>промзона</td>\n",
       "      <td>47</td>\n",
       "    </tr>\n",
       "    <tr>\n",
       "      <th>43</th>\n",
       "      <td>починок</td>\n",
       "      <td>141</td>\n",
       "    </tr>\n",
       "    <tr>\n",
       "      <th>42</th>\n",
       "      <td>пос.рзд</td>\n",
       "      <td>3</td>\n",
       "    </tr>\n",
       "    <tr>\n",
       "      <th>41</th>\n",
       "      <td>погост</td>\n",
       "      <td>3</td>\n",
       "    </tr>\n",
       "    <tr>\n",
       "      <th>40</th>\n",
       "      <td>пл.р-н</td>\n",
       "      <td>3</td>\n",
       "    </tr>\n",
       "    <tr>\n",
       "      <th>39</th>\n",
       "      <td>пгт</td>\n",
       "      <td>591</td>\n",
       "    </tr>\n",
       "    <tr>\n",
       "      <th>38</th>\n",
       "      <td>п/ст</td>\n",
       "      <td>245</td>\n",
       "    </tr>\n",
       "    <tr>\n",
       "      <th>37</th>\n",
       "      <td>п/о</td>\n",
       "      <td>6</td>\n",
       "    </tr>\n",
       "    <tr>\n",
       "      <th>36</th>\n",
       "      <td>п. ст.</td>\n",
       "      <td>2</td>\n",
       "    </tr>\n",
       "    <tr>\n",
       "      <th>35</th>\n",
       "      <td>п. ж/д ст.</td>\n",
       "      <td>79</td>\n",
       "    </tr>\n",
       "    <tr>\n",
       "      <th>34</th>\n",
       "      <td>п</td>\n",
       "      <td>18650</td>\n",
       "    </tr>\n",
       "    <tr>\n",
       "      <th>33</th>\n",
       "      <td>остров</td>\n",
       "      <td>12</td>\n",
       "    </tr>\n",
       "    <tr>\n",
       "      <th>32</th>\n",
       "      <td>нп</td>\n",
       "      <td>500</td>\n",
       "    </tr>\n",
       "    <tr>\n",
       "      <th>31</th>\n",
       "      <td>мкр</td>\n",
       "      <td>106</td>\n",
       "    </tr>\n",
       "    <tr>\n",
       "      <th>30</th>\n",
       "      <td>массив</td>\n",
       "      <td>162</td>\n",
       "    </tr>\n",
       "    <tr>\n",
       "      <th>29</th>\n",
       "      <td>м</td>\n",
       "      <td>164</td>\n",
       "    </tr>\n",
       "    <tr>\n",
       "      <th>28</th>\n",
       "      <td>лпх</td>\n",
       "      <td>4</td>\n",
       "    </tr>\n",
       "    <tr>\n",
       "      <th>27</th>\n",
       "      <td>кп</td>\n",
       "      <td>8</td>\n",
       "    </tr>\n",
       "    <tr>\n",
       "      <th>26</th>\n",
       "      <td>кордон</td>\n",
       "      <td>12</td>\n",
       "    </tr>\n",
       "    <tr>\n",
       "      <th>25</th>\n",
       "      <td>кв-л</td>\n",
       "      <td>19</td>\n",
       "    </tr>\n",
       "    <tr>\n",
       "      <th>24</th>\n",
       "      <td>казарма</td>\n",
       "      <td>16</td>\n",
       "    </tr>\n",
       "    <tr>\n",
       "      <th>23</th>\n",
       "      <td>заимка</td>\n",
       "      <td>61</td>\n",
       "    </tr>\n",
       "    <tr>\n",
       "      <th>22</th>\n",
       "      <td>жилрайон</td>\n",
       "      <td>15</td>\n",
       "    </tr>\n",
       "    <tr>\n",
       "      <th>21</th>\n",
       "      <td>ж/д_ст</td>\n",
       "      <td>394</td>\n",
       "    </tr>\n",
       "    <tr>\n",
       "      <th>20</th>\n",
       "      <td>ж/д_рзд</td>\n",
       "      <td>172</td>\n",
       "    </tr>\n",
       "    <tr>\n",
       "      <th>19</th>\n",
       "      <td>ж/д_пост</td>\n",
       "      <td>6</td>\n",
       "    </tr>\n",
       "    <tr>\n",
       "      <th>18</th>\n",
       "      <td>ж/д_платф</td>\n",
       "      <td>17</td>\n",
       "    </tr>\n",
       "    <tr>\n",
       "      <th>17</th>\n",
       "      <td>ж/д_оп</td>\n",
       "      <td>19</td>\n",
       "    </tr>\n",
       "    <tr>\n",
       "      <th>16</th>\n",
       "      <td>ж/д_казарм</td>\n",
       "      <td>42</td>\n",
       "    </tr>\n",
       "    <tr>\n",
       "      <th>15</th>\n",
       "      <td>ж/д_будка</td>\n",
       "      <td>69</td>\n",
       "    </tr>\n",
       "    <tr>\n",
       "      <th>14</th>\n",
       "      <td>ж/д пл-ка</td>\n",
       "      <td>1</td>\n",
       "    </tr>\n",
       "    <tr>\n",
       "      <th>13</th>\n",
       "      <td>ж/д п.п.</td>\n",
       "      <td>4</td>\n",
       "    </tr>\n",
       "    <tr>\n",
       "      <th>12</th>\n",
       "      <td>ж/д о.п.</td>\n",
       "      <td>23</td>\n",
       "    </tr>\n",
       "    <tr>\n",
       "      <th>11</th>\n",
       "      <td>ж/д бл-ст</td>\n",
       "      <td>1</td>\n",
       "    </tr>\n",
       "    <tr>\n",
       "      <th>10</th>\n",
       "      <td>ж/д б-ка</td>\n",
       "      <td>1</td>\n",
       "    </tr>\n",
       "    <tr>\n",
       "      <th>9</th>\n",
       "      <td>дп</td>\n",
       "      <td>387</td>\n",
       "    </tr>\n",
       "    <tr>\n",
       "      <th>8</th>\n",
       "      <td>д</td>\n",
       "      <td>96519</td>\n",
       "    </tr>\n",
       "    <tr>\n",
       "      <th>7</th>\n",
       "      <td>гп</td>\n",
       "      <td>43</td>\n",
       "    </tr>\n",
       "    <tr>\n",
       "      <th>6</th>\n",
       "      <td>г-к</td>\n",
       "      <td>19</td>\n",
       "    </tr>\n",
       "    <tr>\n",
       "      <th>5</th>\n",
       "      <td>г</td>\n",
       "      <td>1144</td>\n",
       "    </tr>\n",
       "    <tr>\n",
       "      <th>4</th>\n",
       "      <td>высел</td>\n",
       "      <td>55</td>\n",
       "    </tr>\n",
       "    <tr>\n",
       "      <th>3</th>\n",
       "      <td>аул</td>\n",
       "      <td>195</td>\n",
       "    </tr>\n",
       "    <tr>\n",
       "      <th>2</th>\n",
       "      <td>арбан</td>\n",
       "      <td>17</td>\n",
       "    </tr>\n",
       "    <tr>\n",
       "      <th>1</th>\n",
       "      <td>автодорога</td>\n",
       "      <td>62</td>\n",
       "    </tr>\n",
       "    <tr>\n",
       "      <th>0</th>\n",
       "      <td>аал</td>\n",
       "      <td>54</td>\n",
       "    </tr>\n",
       "  </tbody>\n",
       "</table>\n",
       "</div>"
      ],
      "text/plain": [
       "     city_type  city_number\n",
       "60           х         5777\n",
       "59           у          222\n",
       "58         тер         2275\n",
       "57       ст-ца          444\n",
       "56          ст          516\n",
       "55          сп           51\n",
       "54         снт         1678\n",
       "53          сл           89\n",
       "52         с/с          751\n",
       "51         с/п          733\n",
       "50         с/о            1\n",
       "49        с/мо            7\n",
       "48         с/а            2\n",
       "47           с        30821\n",
       "46          рп          535\n",
       "45         рзд          274\n",
       "44    промзона           47\n",
       "43     починок          141\n",
       "42     пос.рзд            3\n",
       "41      погост            3\n",
       "40      пл.р-н            3\n",
       "39         пгт          591\n",
       "38        п/ст          245\n",
       "37         п/о            6\n",
       "36      п. ст.            2\n",
       "35  п. ж/д ст.           79\n",
       "34           п        18650\n",
       "33      остров           12\n",
       "32          нп          500\n",
       "31         мкр          106\n",
       "30      массив          162\n",
       "29           м          164\n",
       "28         лпх            4\n",
       "27          кп            8\n",
       "26      кордон           12\n",
       "25        кв-л           19\n",
       "24     казарма           16\n",
       "23      заимка           61\n",
       "22    жилрайон           15\n",
       "21      ж/д_ст          394\n",
       "20     ж/д_рзд          172\n",
       "19    ж/д_пост            6\n",
       "18   ж/д_платф           17\n",
       "17      ж/д_оп           19\n",
       "16  ж/д_казарм           42\n",
       "15   ж/д_будка           69\n",
       "14   ж/д пл-ка            1\n",
       "13    ж/д п.п.            4\n",
       "12    ж/д о.п.           23\n",
       "11   ж/д бл-ст            1\n",
       "10    ж/д б-ка            1\n",
       "9           дп          387\n",
       "8            д        96519\n",
       "7           гп           43\n",
       "6          г-к           19\n",
       "5            г         1144\n",
       "4        высел           55\n",
       "3          аул          195\n",
       "2        арбан           17\n",
       "1   автодорога           62\n",
       "0          аал           54"
      ]
     },
     "execution_count": 23,
     "metadata": {},
     "output_type": "execute_result"
    }
   ],
   "source": [
    "# и каких\n",
    "\n",
    "(work_cities\n",
    ".groupby('city_type', as_index=False)\n",
    ".agg({'aolevel': 'count'})\n",
    ".rename(columns={'aolevel': 'city_number'})\n",
    ".sort_values('city_type', ascending=False)\n",
    ")"
   ]
  },
  {
   "cell_type": "markdown",
   "metadata": {},
   "source": [
    "Удаляем то, что имеет адрес, но не является населенным пунктом: ж/д будки, автодороги, а также промзоны и территории."
   ]
  },
  {
   "cell_type": "code",
   "execution_count": 24,
   "metadata": {},
   "outputs": [
    {
     "name": "stdout",
     "output_type": "stream",
     "text": [
      "['д', 'с', 'п', 'х', 'тер', 'снт', 'г', 'с/с', 'с/п', 'пгт', 'рп', 'ст', 'нп', 'ст-ца', 'ж/д_ст', 'дп', 'рзд', 'п/ст', 'у', 'аул', 'ж/д_рзд', 'м', 'массив', 'починок', 'мкр', 'сл', 'п. ж/д ст.', 'ж/д_будка', 'автодорога', 'заимка', 'высел', 'аал', 'сп', 'промзона', 'гп', 'ж/д_казарм', 'ж/д о.п.', 'ж/д_оп', 'г-к', 'кв-л', 'ж/д_платф', 'арбан', 'казарма', 'жилрайон', 'кордон', 'остров', 'кп', 'с/мо', 'ж/д_пост', 'п/о', 'ж/д п.п.', 'лпх', 'пл.р-н', 'пос.рзд', 'погост', 'с/а', 'п. ст.', 'ж/д пл-ка', 'ж/д б-ка', 'с/о', 'ж/д бл-ст']\n"
     ]
    }
   ],
   "source": [
    "# выгружаем все типы\n",
    "\n",
    "print(work_cities.city_type.value_counts().index.to_list())"
   ]
  },
  {
   "cell_type": "code",
   "execution_count": 25,
   "metadata": {},
   "outputs": [],
   "source": [
    "# отбираем ненужные\n",
    "\n",
    "no_city = ['автодорога',\n",
    "           'ж/д б-ка', 'ж/д пл-ка', 'ж/д_будка',\n",
    "           'ж/д_казарм', 'ж/д_оп', 'ж/д_платф', 'ж/д_пост', 'ж/д_рзд',\n",
    "           'казарма', 'п/о',\n",
    "           'промзона', 'тер']"
   ]
  },
  {
   "cell_type": "code",
   "execution_count": 26,
   "metadata": {},
   "outputs": [],
   "source": [
    "# Удаляем ненужные записи\n",
    "\n",
    "work_cities = work_cities.loc[~work_cities.city_type.isin(no_city)]"
   ]
  },
  {
   "cell_type": "code",
   "execution_count": 27,
   "metadata": {},
   "outputs": [
    {
     "data": {
      "text/plain": [
       "(161536, 7)"
      ]
     },
     "execution_count": 27,
     "metadata": {},
     "output_type": "execute_result"
    }
   ],
   "source": [
    "work_cities.shape"
   ]
  },
  {
   "cell_type": "code",
   "execution_count": null,
   "metadata": {},
   "outputs": [],
   "source": []
  },
  {
   "cell_type": "markdown",
   "metadata": {},
   "source": [
    "### Записываем в файл ###"
   ]
  },
  {
   "cell_type": "code",
   "execution_count": null,
   "metadata": {},
   "outputs": [],
   "source": [
    "work_cities.to_csv('C:/00_Projects/Russia_color/all_cities_clean.csv',\n",
    "                  sep=',', encoding='utf-8', index=False)"
   ]
  },
  {
   "cell_type": "code",
   "execution_count": null,
   "metadata": {},
   "outputs": [],
   "source": []
  }
 ],
 "metadata": {
  "kernelspec": {
   "display_name": "Python 3",
   "language": "python",
   "name": "python3"
  },
  "language_info": {
   "codemirror_mode": {
    "name": "ipython",
    "version": 3
   },
   "file_extension": ".py",
   "mimetype": "text/x-python",
   "name": "python",
   "nbconvert_exporter": "python",
   "pygments_lexer": "ipython3",
   "version": "3.7.4"
  }
 },
 "nbformat": 4,
 "nbformat_minor": 2
}
